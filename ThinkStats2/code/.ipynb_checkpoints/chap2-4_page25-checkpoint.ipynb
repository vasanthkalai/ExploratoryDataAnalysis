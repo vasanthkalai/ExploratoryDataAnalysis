{
 "cells": [
  {
   "cell_type": "code",
   "execution_count": 1,
   "metadata": {},
   "outputs": [],
   "source": [
    "import numpy as np\n",
    "\n",
    "import nsfg\n",
    "import first"
   ]
  },
  {
   "cell_type": "markdown",
   "metadata": {},
   "source": [
    "Using the variable totalwgt_lb, investigate whether first babies are lighter or heavier than others.\n",
    "\n",
    "Compute Cohen’s effect size to quantify the difference between the groups. How does it compare to the difference in pregnancy length?"
   ]
  },
  {
   "cell_type": "code",
   "execution_count": 11,
   "metadata": {},
   "outputs": [
    {
     "name": "stdout",
     "output_type": "stream",
     "text": [
      "Mean\n",
      "First Baby:  7.201094430437772\n",
      "Other Baby: 7.325855614973262\n",
      "\n",
      "\n",
      "Median\n",
      "First Baby:  7.3125\n",
      "Other Baby:  7.375\n"
     ]
    },
    {
     "data": {
      "image/png": "[encoded data removed]",
      "text/plain": [
       "<Figure size 432x288 with 1 Axes>"
      ]
     },
     "metadata": {
      "needs_background": "light"
     },
     "output_type": "display_data"
    }
   ],
   "source": [
    "import thinkstats2\n",
    "import thinkplot\n",
    "\n",
    "preg=nsfg.ReadFemPreg()\n",
    "live=preg[preg.outcome==1]\n",
    "\n",
    "firsts=live[live.birthord==1]\n",
    "others=live[live.birthord!=1]\n",
    "\n",
    "first_hist=thinkstats2.Hist(np.round(firsts.totalwgt_lb),label='First Baby')\n",
    "other_hist=thinkstats2.Hist(np.round(others.totalwgt_lb),label='Other Baby')\n",
    "\n",
    "print(\"Mean\")\n",
    "print('First Baby: ',firsts.totalwgt_lb.mean())\n",
    "print('Other Baby:',others.totalwgt_lb.mean())\n",
    "print('\\n')\n",
    "print(\"Median\")\n",
    "print('First Baby: ',firsts.totalwgt_lb.median())\n",
    "print('Other Baby: ',others.totalwgt_lb.median())\n",
    "\n",
    "width=0.45\n",
    "thinkplot.PrePlot(2)\n",
    "thinkplot.Hist(first_hist,align='left',width=width)\n",
    "thinkplot.Hist(other_hist,align='right',width=width)\n",
    "thinkplot.Config(xlabel='Weight',ylabel='Count',xlim=(0,15))"
   ]
  },
  {
   "cell_type": "code",
   "execution_count": 18,
   "metadata": {},
   "outputs": [
    {
     "name": "stdout",
     "output_type": "stream",
     "text": [
      "-0.088672927072602\n"
     ]
    }
   ],
   "source": [
    "difference=firsts.totalwgt_lb.mean()-others.totalwgt_lb.mean()\n",
    "\n",
    "var_first=firsts.totalwgt_lb.var()\n",
    "var_others=others.totalwgt_lb.var()\n",
    "n1=len(firsts.totalwgt_lb)\n",
    "n2=len(others.totalwgt_lb)\n",
    "\n",
    "com_var=(n1*var_first+n2*var_others)/(n1+n2)\n",
    "d=difference/np.sqrt(com_var)\n",
    "print(d)"
   ]
  },
  {
   "cell_type": "markdown",
   "metadata": {},
   "source": [
    "As per the histogram other babies are heavier than the first babies"
   ]
  },
  {
   "cell_type": "code",
   "execution_count": null,
   "metadata": {},
   "outputs": [],
   "source": []
  }
 ],
 "metadata": {
  "kernelspec": {
   "display_name": "Python 3",
   "language": "python",
   "name": "python3"
  },
  "language_info": {
   "codemirror_mode": {
    "name": "ipython",
    "version": 3
   },
   "file_extension": ".py",
   "mimetype": "text/x-python",
   "name": "python",
   "nbconvert_exporter": "python",
   "pygments_lexer": "ipython3",
   "version": "3.8.5"
  }
 },
 "nbformat": 4,
 "nbformat_minor": 4
}
