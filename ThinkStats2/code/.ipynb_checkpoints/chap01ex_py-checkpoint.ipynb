{
 "cells": [
  {
   "cell_type": "code",
   "execution_count": 4,
   "metadata": {},
   "outputs": [
    {
     "name": "stdout",
     "output_type": "stream",
     "text": [
      "0     2610\n",
      "1     1267\n",
      "2     1432\n",
      "3     1110\n",
      "4      611\n",
      "5      305\n",
      "6      150\n",
      "7       80\n",
      "8       40\n",
      "9       21\n",
      "10       9\n",
      "11       3\n",
      "12       2\n",
      "14       2\n",
      "19       1\n",
      "Name: pregnum, dtype: int64\n",
      "7643\n",
      "notebook script: All tests passed.\n"
     ]
    }
   ],
   "source": [
    "\"\"\"This file contains code for use with \"Think Stats\",\n",
    "by Allen B. Downey, available from greenteapress.com\n",
    "\n",
    "Copyright 2014 Allen B. Downey\n",
    "License: GNU GPLv3 http://www.gnu.org/licenses/gpl.html\n",
    "\"\"\"\n",
    "\n",
    "from __future__ import print_function\n",
    "\n",
    "import numpy as np\n",
    "import sys\n",
    "\n",
    "import nsfg\n",
    "import thinkstats2\n",
    "\n",
    "def ReadFemResp(dct_file='2002FemResp.dct',\n",
    "            dat_file='2002FemResp.dat.gz',\n",
    "               nrows=None):\n",
    "    \"\"\"This method is used to return data frame\n",
    "    \"\"\"\n",
    "    dct=thinkstats2.ReadStataDct(dct_file)\n",
    "    df=dct.ReadFixedWidth(dat_file,compression='gzip',nrows=nrows)\n",
    "    \n",
    "    return df\n",
    "\n",
    "def main(script):\n",
    "    \"\"\"Tests the functions in this module.\n",
    "\n",
    "    script: string script name\n",
    "    \"\"\"\n",
    "    mydata=ReadFemResp()\n",
    "    indexed_data=mydata[\"pregnum\"].value_counts().sort_index()\n",
    "    print(indexed_data)\n",
    "    \n",
    "    print(len(mydata))\n",
    "    \n",
    "    assert(len(mydata)==7643)\n",
    "    assert(mydata.pregnum.value_counts()[1]==1267)\n",
    "    assert(mydata.pregnum.value_counts()[3]==1110)\n",
    "    assert(mydata.pregnum.value_counts()[5]==305)\n",
    "    \n",
    "    print('%s: All tests passed.' % script)\n",
    "\n",
    "\n",
    "main(\"notebook script\")"
   ]
  },
  {
   "cell_type": "code",
   "execution_count": null,
   "metadata": {},
   "outputs": [],
   "source": []
  },
  {
   "cell_type": "code",
   "execution_count": null,
   "metadata": {},
   "outputs": [],
   "source": []
  },
  {
   "cell_type": "code",
   "execution_count": null,
   "metadata": {},
   "outputs": [],
   "source": []
  }
 ],
 "metadata": {
  "kernelspec": {
   "display_name": "Python 3",
   "language": "python",
   "name": "python3"
  },
  "language_info": {
   "codemirror_mode": {
    "name": "ipython",
    "version": 3
   },
   "file_extension": ".py",
   "mimetype": "text/x-python",
   "name": "python",
   "nbconvert_exporter": "python",
   "pygments_lexer": "ipython3",
   "version": "3.8.5"
  }
 },
 "nbformat": 4,
 "nbformat_minor": 4
}
