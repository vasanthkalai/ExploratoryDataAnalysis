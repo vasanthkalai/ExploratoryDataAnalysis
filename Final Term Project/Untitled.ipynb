{
 "cells": [
  {
   "cell_type": "code",
   "execution_count": 4,
   "metadata": {},
   "outputs": [
    {
     "name": "stdout",
     "output_type": "stream",
     "text": [
      "Collecting thinkx\n",
      "  Using cached thinkx-1.1.3.tar.gz (41 kB)\n",
      "Requirement already satisfied: matplotlib in c:\\users\\vasan\\anaconda3\\lib\\site-packages (from thinkx) (3.3.2)\n",
      "Requirement already satisfied: numpy in c:\\users\\vasan\\anaconda3\\lib\\site-packages (from thinkx) (1.19.2)\n",
      "Requirement already satisfied: pandas in c:\\users\\vasan\\anaconda3\\lib\\site-packages (from thinkx) (1.1.3)\n",
      "Requirement already satisfied: scipy in c:\\users\\vasan\\anaconda3\\lib\\site-packages (from thinkx) (1.5.2)\n",
      "Collecting markdown\n",
      "  Using cached Markdown-3.3.4-py3-none-any.whl (97 kB)\n",
      "Requirement already satisfied: cycler>=0.10 in c:\\users\\vasan\\anaconda3\\lib\\site-packages (from matplotlib->thinkx) (0.10.0)\n",
      "Requirement already satisfied: certifi>=2020.06.20 in c:\\users\\vasan\\anaconda3\\lib\\site-packages (from matplotlib->thinkx) (2020.6.20)\n",
      "Requirement already satisfied: kiwisolver>=1.0.1 in c:\\users\\vasan\\anaconda3\\lib\\site-packages (from matplotlib->thinkx) (1.3.0)\n",
      "Requirement already satisfied: pyparsing!=2.0.4,!=2.1.2,!=2.1.6,>=2.0.3 in c:\\users\\vasan\\anaconda3\\lib\\site-packages (from matplotlib->thinkx) (2.4.7)\n",
      "Requirement already satisfied: pillow>=6.2.0 in c:\\users\\vasan\\anaconda3\\lib\\site-packages (from matplotlib->thinkx) (8.0.1)\n",
      "Requirement already satisfied: python-dateutil>=2.1 in c:\\users\\vasan\\anaconda3\\lib\\site-packages (from matplotlib->thinkx) (2.8.1)\n",
      "Requirement already satisfied: pytz>=2017.2 in c:\\users\\vasan\\anaconda3\\lib\\site-packages (from pandas->thinkx) (2020.1)\n",
      "Requirement already satisfied: six in c:\\users\\vasan\\anaconda3\\lib\\site-packages (from cycler>=0.10->matplotlib->thinkx) (1.15.0)\n",
      "Building wheels for collected packages: thinkx\n",
      "  Building wheel for thinkx (setup.py): started\n",
      "  Building wheel for thinkx (setup.py): finished with status 'done'\n",
      "  Created wheel for thinkx: filename=thinkx-1.1.3-py3-none-any.whl size=59946 sha256=7b3d77eecb09ede54e73a836e1c6cee3e1870345a825c8bc8dda30191b2eef31\n",
      "  Stored in directory: c:\\users\\vasan\\appdata\\local\\pip\\cache\\wheels\\5e\\fb\\91\\506f7f82cc754d3310b68a59ae3c08ca7fefe6d0e83ba2f570\n",
      "Successfully built thinkx\n",
      "Installing collected packages: markdown, thinkx\n",
      "Successfully installed markdown-3.3.4 thinkx-1.1.3\n",
      "Note: you may need to restart the kernel to use updated packages.\n"
     ]
    }
   ],
   "source": [
    "pip install thinkx"
   ]
  },
  {
   "cell_type": "code",
   "execution_count": 1,
   "metadata": {},
   "outputs": [],
   "source": [
    "import thinkstats2"
   ]
  },
  {
   "cell_type": "code",
   "execution_count": 2,
   "metadata": {},
   "outputs": [],
   "source": [
    "pmf=thinkstats2.Pmf([1,2,3,4,5])"
   ]
  },
  {
   "cell_type": "code",
   "execution_count": 3,
   "metadata": {},
   "outputs": [
    {
     "data": {
      "text/plain": [
       "Pmf({1: 0.2, 2: 0.2, 3: 0.2, 4: 0.2, 5: 0.2})"
      ]
     },
     "execution_count": 3,
     "metadata": {},
     "output_type": "execute_result"
    }
   ],
   "source": [
    "pmf"
   ]
  },
  {
   "cell_type": "code",
   "execution_count": 4,
   "metadata": {},
   "outputs": [
    {
     "data": {
      "text/plain": [
       "0.2"
      ]
     },
     "execution_count": 4,
     "metadata": {},
     "output_type": "execute_result"
    }
   ],
   "source": [
    "pmf.Prob(2)"
   ]
  },
  {
   "cell_type": "code",
   "execution_count": 5,
   "metadata": {},
   "outputs": [],
   "source": [
    "pmf.Incr(2,0.3)"
   ]
  },
  {
   "cell_type": "code",
   "execution_count": 6,
   "metadata": {},
   "outputs": [
    {
     "data": {
      "text/plain": [
       "0.5"
      ]
     },
     "execution_count": 6,
     "metadata": {},
     "output_type": "execute_result"
    }
   ],
   "source": [
    "pmf.Prob(2)"
   ]
  },
  {
   "cell_type": "code",
   "execution_count": 7,
   "metadata": {},
   "outputs": [
    {
     "data": {
      "text/plain": [
       "1.2999999999999998"
      ]
     },
     "execution_count": 7,
     "metadata": {},
     "output_type": "execute_result"
    }
   ],
   "source": [
    "pmf.Total()"
   ]
  },
  {
   "cell_type": "code",
   "execution_count": 8,
   "metadata": {},
   "outputs": [
    {
     "data": {
      "text/plain": [
       "1.2999999999999998"
      ]
     },
     "execution_count": 8,
     "metadata": {},
     "output_type": "execute_result"
    }
   ],
   "source": [
    "pmf.Normalize()"
   ]
  },
  {
   "cell_type": "code",
   "execution_count": 9,
   "metadata": {},
   "outputs": [
    {
     "data": {
      "text/plain": [
       "1.0000000000000002"
      ]
     },
     "execution_count": 9,
     "metadata": {},
     "output_type": "execute_result"
    }
   ],
   "source": [
    "pmf.Total()"
   ]
  },
  {
   "cell_type": "code",
   "execution_count": 12,
   "metadata": {},
   "outputs": [],
   "source": [
    "\"\"\"This file contains code used in \"Think Stats\",\n",
    "by Allen B. Downey, available from greenteapress.com\n",
    "\n",
    "Copyright 2014 Allen B. Downey\n",
    "License: GNU GPLv3 http://www.gnu.org/licenses/gpl.html\n",
    "\"\"\"\n",
    "\n",
    "from __future__ import print_function\n",
    "\n",
    "import math\n",
    "import numpy as np\n",
    "\n",
    "import nsfg\n",
    "import first\n",
    "import thinkstats2\n",
    "import thinkplot\n",
    "\n",
    "\n",
    "def MakeHists(live):\n",
    "    \"\"\"Plot Hists for live births\n",
    "\n",
    "    live: DataFrame\n",
    "    others: DataFrame\n",
    "    \"\"\"\n",
    "    hist = thinkstats2.Hist(np.floor(live.agepreg), label='agepreg')\n",
    "    thinkplot.PrePlot(2, cols=2)\n",
    "\n",
    "    thinkplot.SubPlot(1)\n",
    "    thinkplot.Hist(hist)\n",
    "    thinkplot.Config(xlabel='years',\n",
    "                     ylabel='frequency',\n",
    "                     axis=[0, 45, 0, 700])\n",
    "\n",
    "    thinkplot.SubPlot(2)\n",
    "    thinkplot.Pmf(hist)\n",
    "\n",
    "    thinkplot.Save(root='probability_agepreg_hist', \n",
    "                   xlabel='years',\n",
    "                   axis=[0, 45, 0, 700])\n",
    "\n",
    "\n",
    "def MakeFigures(firsts, others):\n",
    "    \"\"\"Plot Pmfs of pregnancy length.\n",
    "\n",
    "    firsts: DataFrame\n",
    "    others: DataFrame\n",
    "    \"\"\"\n",
    "    # plot the PMFs\n",
    "    first_pmf = thinkstats2.Pmf(firsts.prglngth, label='first')\n",
    "    other_pmf = thinkstats2.Pmf(others.prglngth, label='other')\n",
    "    width = 0.45\n",
    "\n",
    "    thinkplot.PrePlot(2, cols=2)\n",
    "    thinkplot.Hist(first_pmf, align='right', width=width)\n",
    "    thinkplot.Hist(other_pmf, align='left', width=width)\n",
    "    thinkplot.Config(xlabel='weeks',\n",
    "                     ylabel='probability',\n",
    "                     axis=[27, 46, 0, 0.6])\n",
    "\n",
    "    thinkplot.PrePlot(2)\n",
    "    thinkplot.SubPlot(2)\n",
    "    thinkplot.Pmfs([first_pmf, other_pmf])\n",
    "    thinkplot.Save(root='probability_nsfg_pmf',\n",
    "                   xlabel='weeks',\n",
    "                   axis=[27, 46, 0, 0.6])\n",
    "\n",
    "    # plot the differences in the PMFs\n",
    "    weeks = range(35, 46)\n",
    "    diffs = []\n",
    "    for week in weeks:\n",
    "        p1 = first_pmf.Prob(week)\n",
    "        p2 = other_pmf.Prob(week)\n",
    "        diff = 100 * (p1 - p2)\n",
    "        diffs.append(diff)\n",
    "\n",
    "    thinkplot.Bar(weeks, diffs)\n",
    "    thinkplot.Save(root='probability_nsfg_diffs',\n",
    "                   title='Difference in PMFs',\n",
    "                   xlabel='weeks',\n",
    "                   ylabel='percentage points',\n",
    "                   legend=False)\n",
    "\n",
    "\n",
    "def BiasPmf(pmf, label=''):\n",
    "    \"\"\"Returns the Pmf with oversampling proportional to value.\n",
    "\n",
    "    If pmf is the distribution of true values, the result is the\n",
    "    distribution that would be seen if values are oversampled in\n",
    "    proportion to their values; for example, if you ask students\n",
    "    how big their classes are, large classes are oversampled in\n",
    "    proportion to their size.\n",
    "\n",
    "    Args:\n",
    "      pmf: Pmf object.\n",
    "      label: string label for the new Pmf.\n",
    "\n",
    "     Returns:\n",
    "       Pmf object\n",
    "    \"\"\"\n",
    "    new_pmf = pmf.Copy(label=label)\n",
    "\n",
    "    for x, p in pmf.Items():\n",
    "        new_pmf.Mult(x, x)\n",
    "        \n",
    "    new_pmf.Normalize()\n",
    "    return new_pmf\n",
    "\n",
    "\n",
    "def UnbiasPmf(pmf, label=''):\n",
    "    \"\"\"Returns the Pmf with oversampling proportional to 1/value.\n",
    "\n",
    "    Args:\n",
    "      pmf: Pmf object.\n",
    "      label: string label for the new Pmf.\n",
    "\n",
    "     Returns:\n",
    "       Pmf object\n",
    "    \"\"\"\n",
    "    new_pmf = pmf.Copy(label=label)\n",
    "\n",
    "    for x, p in pmf.Items():\n",
    "        new_pmf.Mult(x, 1.0/x)\n",
    "        \n",
    "    new_pmf.Normalize()\n",
    "    return new_pmf\n",
    "\n",
    "\n",
    "def ClassSizes():\n",
    "    \"\"\"Generate PMFs of observed and actual class size.\n",
    "    \"\"\"\n",
    "    # start with the actual distribution of class sizes from the book\n",
    "    d = { 7: 8, 12: 8, 17: 14, 22: 4, \n",
    "          27: 6, 32: 12, 37: 8, 42: 3, 47: 2 }\n",
    "\n",
    "    # form the pmf\n",
    "    pmf = thinkstats2.Pmf(d, label='actual')\n",
    "    print('mean', pmf.Mean())\n",
    "    print('var', pmf.Var())\n",
    "    \n",
    "    # compute the biased pmf\n",
    "    biased_pmf = BiasPmf(pmf, label='observed')\n",
    "    print('mean', biased_pmf.Mean())\n",
    "    print('var', biased_pmf.Var())\n",
    "\n",
    "    # unbias the biased pmf\n",
    "    unbiased_pmf = UnbiasPmf(biased_pmf, label='unbiased')\n",
    "    print('mean', unbiased_pmf.Mean())\n",
    "    print('var', unbiased_pmf.Var())\n",
    "\n",
    "    # plot the Pmfs\n",
    "    thinkplot.PrePlot(2)\n",
    "    thinkplot.Pmfs([pmf, biased_pmf])\n",
    "    thinkplot.Save(root='class_size1',\n",
    "                   xlabel='class size',\n",
    "                   ylabel='PMF',\n",
    "                   axis=[0, 52, 0, 0.27])\n",
    "    \n",
    " \n",
    "def main(script):\n",
    "    live, firsts, others = first.MakeFrames()\n",
    "    MakeFigures(firsts, others)\n",
    "    MakeHists(live)\n",
    "\n",
    "    ClassSizes()\n",
    "\n",
    "\n",
    "if __name__ == '__main__':\n",
    "    import sys\n",
    "    main(*sys.argv)\n",
    "\n",
    "\n"
   ]
  },
  {
   "cell_type": "code",
   "execution_count": 14,
   "metadata": {},
   "outputs": [
    {
     "ename": "NameError",
     "evalue": "name 'firsts' is not defined",
     "output_type": "error",
     "traceback": [
      "\u001b[1;31m---------------------------------------------------------------------------\u001b[0m",
      "\u001b[1;31mNameError\u001b[0m                                 Traceback (most recent call last)",
      "\u001b[1;32m<ipython-input-14-ad0085a71d8d>\u001b[0m in \u001b[0;36m<module>\u001b[1;34m\u001b[0m\n\u001b[1;32m----> 1\u001b[1;33m \u001b[0mfirst_pmf\u001b[0m \u001b[1;33m=\u001b[0m \u001b[0mthinkstats2\u001b[0m\u001b[1;33m.\u001b[0m\u001b[0mPmf\u001b[0m\u001b[1;33m(\u001b[0m\u001b[0mfirsts\u001b[0m\u001b[1;33m.\u001b[0m\u001b[0mprglngth\u001b[0m\u001b[1;33m,\u001b[0m \u001b[0mlabel\u001b[0m\u001b[1;33m=\u001b[0m\u001b[1;34m'first'\u001b[0m\u001b[1;33m)\u001b[0m\u001b[1;33m\u001b[0m\u001b[1;33m\u001b[0m\u001b[0m\n\u001b[0m\u001b[0;32m      2\u001b[0m \u001b[0mother_pmf\u001b[0m \u001b[1;33m=\u001b[0m \u001b[0mthinkstats2\u001b[0m\u001b[1;33m.\u001b[0m\u001b[0mPmf\u001b[0m\u001b[1;33m(\u001b[0m\u001b[0mothers\u001b[0m\u001b[1;33m.\u001b[0m\u001b[0mprglngth\u001b[0m\u001b[1;33m,\u001b[0m \u001b[0mlabel\u001b[0m\u001b[1;33m=\u001b[0m\u001b[1;34m'other'\u001b[0m\u001b[1;33m)\u001b[0m\u001b[1;33m\u001b[0m\u001b[1;33m\u001b[0m\u001b[0m\n",
      "\u001b[1;31mNameError\u001b[0m: name 'firsts' is not defined"
     ]
    }
   ],
   "source": [
    "first_pmf = thinkstats2.Pmf(firsts.prglngth, label='first')\n",
    "other_pmf = thinkstats2.Pmf(others.prglngth, label='other')"
   ]
  },
  {
   "cell_type": "code",
   "execution_count": 15,
   "metadata": {},
   "outputs": [],
   "source": [
    "d = { 7: 8, 12: 8, 17: 14, 22: 4,\n",
    "27: 6, 32: 12, 37: 8, 42: 3, 47: 2 }"
   ]
  },
  {
   "cell_type": "code",
   "execution_count": 16,
   "metadata": {},
   "outputs": [
    {
     "name": "stdout",
     "output_type": "stream",
     "text": [
      "23.692307692307693\n"
     ]
    }
   ],
   "source": [
    "pmf=thinkstats2.Pmf(d,label='actual')\n",
    "print(pmf.Mean())"
   ]
  },
  {
   "cell_type": "code",
   "execution_count": 17,
   "metadata": {},
   "outputs": [
    {
     "data": {
      "text/html": [
       "<div>\n",
       "<style scoped>\n",
       "    .dataframe tbody tr th:only-of-type {\n",
       "        vertical-align: middle;\n",
       "    }\n",
       "\n",
       "    .dataframe tbody tr th {\n",
       "        vertical-align: top;\n",
       "    }\n",
       "\n",
       "    .dataframe thead th {\n",
       "        text-align: right;\n",
       "    }\n",
       "</style>\n",
       "<table border=\"1\" class=\"dataframe\">\n",
       "  <thead>\n",
       "    <tr style=\"text-align: right;\">\n",
       "      <th></th>\n",
       "      <th>0</th>\n",
       "      <th>1</th>\n",
       "    </tr>\n",
       "  </thead>\n",
       "  <tbody>\n",
       "    <tr>\n",
       "      <th>0</th>\n",
       "      <td>1.138006</td>\n",
       "      <td>-0.892723</td>\n",
       "    </tr>\n",
       "    <tr>\n",
       "      <th>1</th>\n",
       "      <td>-0.398057</td>\n",
       "      <td>-0.558606</td>\n",
       "    </tr>\n",
       "    <tr>\n",
       "      <th>2</th>\n",
       "      <td>0.681682</td>\n",
       "      <td>-1.339747</td>\n",
       "    </tr>\n",
       "    <tr>\n",
       "      <th>3</th>\n",
       "      <td>1.602662</td>\n",
       "      <td>-0.512628</td>\n",
       "    </tr>\n",
       "  </tbody>\n",
       "</table>\n",
       "</div>"
      ],
      "text/plain": [
       "          0         1\n",
       "0  1.138006 -0.892723\n",
       "1 -0.398057 -0.558606\n",
       "2  0.681682 -1.339747\n",
       "3  1.602662 -0.512628"
      ]
     },
     "execution_count": 17,
     "metadata": {},
     "output_type": "execute_result"
    }
   ],
   "source": [
    "import numpy as np\n",
    "import pandas\n",
    "array = np.random.randn(4, 2)\n",
    "df = pandas.DataFrame(array)\n",
    "df"
   ]
  },
  {
   "cell_type": "code",
   "execution_count": 18,
   "metadata": {},
   "outputs": [
    {
     "data": {
      "text/html": [
       "<div>\n",
       "<style scoped>\n",
       "    .dataframe tbody tr th:only-of-type {\n",
       "        vertical-align: middle;\n",
       "    }\n",
       "\n",
       "    .dataframe tbody tr th {\n",
       "        vertical-align: top;\n",
       "    }\n",
       "\n",
       "    .dataframe thead th {\n",
       "        text-align: right;\n",
       "    }\n",
       "</style>\n",
       "<table border=\"1\" class=\"dataframe\">\n",
       "  <thead>\n",
       "    <tr style=\"text-align: right;\">\n",
       "      <th></th>\n",
       "      <th>A</th>\n",
       "      <th>B</th>\n",
       "    </tr>\n",
       "  </thead>\n",
       "  <tbody>\n",
       "    <tr>\n",
       "      <th>0</th>\n",
       "      <td>1.138006</td>\n",
       "      <td>-0.892723</td>\n",
       "    </tr>\n",
       "    <tr>\n",
       "      <th>1</th>\n",
       "      <td>-0.398057</td>\n",
       "      <td>-0.558606</td>\n",
       "    </tr>\n",
       "    <tr>\n",
       "      <th>2</th>\n",
       "      <td>0.681682</td>\n",
       "      <td>-1.339747</td>\n",
       "    </tr>\n",
       "    <tr>\n",
       "      <th>3</th>\n",
       "      <td>1.602662</td>\n",
       "      <td>-0.512628</td>\n",
       "    </tr>\n",
       "  </tbody>\n",
       "</table>\n",
       "</div>"
      ],
      "text/plain": [
       "          A         B\n",
       "0  1.138006 -0.892723\n",
       "1 -0.398057 -0.558606\n",
       "2  0.681682 -1.339747\n",
       "3  1.602662 -0.512628"
      ]
     },
     "execution_count": 18,
     "metadata": {},
     "output_type": "execute_result"
    }
   ],
   "source": [
    "columns = ['A', 'B']\n",
    "df = pandas.DataFrame(array, columns=columns)\n",
    "df"
   ]
  },
  {
   "cell_type": "code",
   "execution_count": 19,
   "metadata": {},
   "outputs": [
    {
     "data": {
      "text/html": [
       "<div>\n",
       "<style scoped>\n",
       "    .dataframe tbody tr th:only-of-type {\n",
       "        vertical-align: middle;\n",
       "    }\n",
       "\n",
       "    .dataframe tbody tr th {\n",
       "        vertical-align: top;\n",
       "    }\n",
       "\n",
       "    .dataframe thead th {\n",
       "        text-align: right;\n",
       "    }\n",
       "</style>\n",
       "<table border=\"1\" class=\"dataframe\">\n",
       "  <thead>\n",
       "    <tr style=\"text-align: right;\">\n",
       "      <th></th>\n",
       "      <th>A</th>\n",
       "      <th>B</th>\n",
       "    </tr>\n",
       "  </thead>\n",
       "  <tbody>\n",
       "    <tr>\n",
       "      <th>a</th>\n",
       "      <td>1.138006</td>\n",
       "      <td>-0.892723</td>\n",
       "    </tr>\n",
       "    <tr>\n",
       "      <th>b</th>\n",
       "      <td>-0.398057</td>\n",
       "      <td>-0.558606</td>\n",
       "    </tr>\n",
       "    <tr>\n",
       "      <th>c</th>\n",
       "      <td>0.681682</td>\n",
       "      <td>-1.339747</td>\n",
       "    </tr>\n",
       "    <tr>\n",
       "      <th>d</th>\n",
       "      <td>1.602662</td>\n",
       "      <td>-0.512628</td>\n",
       "    </tr>\n",
       "  </tbody>\n",
       "</table>\n",
       "</div>"
      ],
      "text/plain": [
       "          A         B\n",
       "a  1.138006 -0.892723\n",
       "b -0.398057 -0.558606\n",
       "c  0.681682 -1.339747\n",
       "d  1.602662 -0.512628"
      ]
     },
     "execution_count": 19,
     "metadata": {},
     "output_type": "execute_result"
    }
   ],
   "source": [
    "index = ['a', 'b', 'c', 'd']\n",
    "df = pandas.DataFrame(array, columns=columns, index=index)\n",
    "df"
   ]
  },
  {
   "cell_type": "code",
   "execution_count": 20,
   "metadata": {},
   "outputs": [
    {
     "data": {
      "text/plain": [
       "a    1.138006\n",
       "b   -0.398057\n",
       "c    0.681682\n",
       "d    1.602662\n",
       "Name: A, dtype: float64"
      ]
     },
     "execution_count": 20,
     "metadata": {},
     "output_type": "execute_result"
    }
   ],
   "source": [
    "df['A']"
   ]
  },
  {
   "cell_type": "code",
   "execution_count": 21,
   "metadata": {},
   "outputs": [
    {
     "data": {
      "text/plain": [
       "A    1.138006\n",
       "B   -0.892723\n",
       "Name: a, dtype: float64"
      ]
     },
     "execution_count": 21,
     "metadata": {},
     "output_type": "execute_result"
    }
   ],
   "source": [
    "df.loc['a']"
   ]
  },
  {
   "cell_type": "code",
   "execution_count": 22,
   "metadata": {},
   "outputs": [
    {
     "data": {
      "text/html": [
       "<div>\n",
       "<style scoped>\n",
       "    .dataframe tbody tr th:only-of-type {\n",
       "        vertical-align: middle;\n",
       "    }\n",
       "\n",
       "    .dataframe tbody tr th {\n",
       "        vertical-align: top;\n",
       "    }\n",
       "\n",
       "    .dataframe thead th {\n",
       "        text-align: right;\n",
       "    }\n",
       "</style>\n",
       "<table border=\"1\" class=\"dataframe\">\n",
       "  <thead>\n",
       "    <tr style=\"text-align: right;\">\n",
       "      <th></th>\n",
       "      <th>A</th>\n",
       "      <th>B</th>\n",
       "    </tr>\n",
       "  </thead>\n",
       "  <tbody>\n",
       "    <tr>\n",
       "      <th>a</th>\n",
       "      <td>1.138006</td>\n",
       "      <td>-0.892723</td>\n",
       "    </tr>\n",
       "    <tr>\n",
       "      <th>b</th>\n",
       "      <td>-0.398057</td>\n",
       "      <td>-0.558606</td>\n",
       "    </tr>\n",
       "    <tr>\n",
       "      <th>c</th>\n",
       "      <td>0.681682</td>\n",
       "      <td>-1.339747</td>\n",
       "    </tr>\n",
       "  </tbody>\n",
       "</table>\n",
       "</div>"
      ],
      "text/plain": [
       "          A         B\n",
       "a  1.138006 -0.892723\n",
       "b -0.398057 -0.558606\n",
       "c  0.681682 -1.339747"
      ]
     },
     "execution_count": 22,
     "metadata": {},
     "output_type": "execute_result"
    }
   ],
   "source": [
    "df['a':'c']"
   ]
  },
  {
   "cell_type": "code",
   "execution_count": 23,
   "metadata": {},
   "outputs": [
    {
     "data": {
      "text/html": [
       "<div>\n",
       "<style scoped>\n",
       "    .dataframe tbody tr th:only-of-type {\n",
       "        vertical-align: middle;\n",
       "    }\n",
       "\n",
       "    .dataframe tbody tr th {\n",
       "        vertical-align: top;\n",
       "    }\n",
       "\n",
       "    .dataframe thead th {\n",
       "        text-align: right;\n",
       "    }\n",
       "</style>\n",
       "<table border=\"1\" class=\"dataframe\">\n",
       "  <thead>\n",
       "    <tr style=\"text-align: right;\">\n",
       "      <th></th>\n",
       "      <th>A</th>\n",
       "      <th>B</th>\n",
       "    </tr>\n",
       "  </thead>\n",
       "  <tbody>\n",
       "    <tr>\n",
       "      <th>a</th>\n",
       "      <td>1.138006</td>\n",
       "      <td>-0.892723</td>\n",
       "    </tr>\n",
       "    <tr>\n",
       "      <th>b</th>\n",
       "      <td>-0.398057</td>\n",
       "      <td>-0.558606</td>\n",
       "    </tr>\n",
       "  </tbody>\n",
       "</table>\n",
       "</div>"
      ],
      "text/plain": [
       "          A         B\n",
       "a  1.138006 -0.892723\n",
       "b -0.398057 -0.558606"
      ]
     },
     "execution_count": 23,
     "metadata": {},
     "output_type": "execute_result"
    }
   ],
   "source": [
    "df[0:2]"
   ]
  },
  {
   "cell_type": "code",
   "execution_count": 25,
   "metadata": {},
   "outputs": [
    {
     "name": "stdout",
     "output_type": "stream",
     "text": [
      "score, percentile rank\n",
      "55 20.0\n",
      "66 40.0\n",
      "77 60.0\n",
      "88 80.0\n",
      "99 100.0\n",
      "\n",
      "prank, score, score\n",
      "0 55 55\n",
      "20 55 55\n",
      "25 66 66\n",
      "40 66 66\n",
      "50 77 77\n",
      "60 77 77\n",
      "75 88 88\n",
      "80 88 88\n",
      "100 99 99\n",
      "x CDF(x)\n",
      "0 0.0\n",
      "1 0.2\n",
      "2 0.6\n",
      "3 0.8\n",
      "4 0.8\n",
      "5 1.0\n",
      "6 1.0\n",
      "Percentile rank in field 94.12124923453766\n",
      "Percentile rank in age group 90.234375\n",
      "Equivalent position in M50-59 17.69921875\n",
      "Equivalent position in F20-29 44.75\n"
     ]
    }
   ],
   "source": [
    "\"\"\"This file contains code used in \"Think Stats\",\n",
    "by Allen B. Downey, available from greenteapress.com\n",
    "\n",
    "Copyright 2010 Allen B. Downey\n",
    "License: GNU GPLv3 http://www.gnu.org/licenses/gpl.html\n",
    "\"\"\"\n",
    "\n",
    "from __future__ import print_function, division\n",
    "\n",
    "import numpy as np\n",
    "\n",
    "import nsfg\n",
    "import first\n",
    "\n",
    "import thinkstats2\n",
    "import thinkplot\n",
    "\n",
    "\n",
    "def PercentileRank(scores, your_score):\n",
    "    \"\"\"Computes the percentile rank relative to a sample of scores.\"\"\"\n",
    "    count = 0\n",
    "    for score in scores:\n",
    "        if score <= your_score:\n",
    "            count += 1\n",
    "\n",
    "    percentile_rank = 100.0 * count / len(scores)\n",
    "    return percentile_rank\n",
    "\n",
    "scores = [55, 66, 77, 88, 99]\n",
    "your_score = 88\n",
    "\n",
    "print('score, percentile rank')\n",
    "for score in scores:\n",
    "    print(score, PercentileRank(scores, score))\n",
    "print()\n",
    "\n",
    "def Percentile(scores, percentile_rank):\n",
    "    \"\"\"Computes the value that corresponds to a given percentile rank. \"\"\"\n",
    "    scores.sort()\n",
    "    for score in scores:\n",
    "        if PercentileRank(scores, score) >= percentile_rank:\n",
    "            return score\n",
    "\n",
    "def Percentile2(scores, percentile_rank):\n",
    "    \"\"\"Computes the value that corresponds to a given percentile rank.\n",
    "\n",
    "    Slightly more efficient.\n",
    "    \"\"\"\n",
    "    scores.sort()\n",
    "    index = percentile_rank * (len(scores)-1) // 100\n",
    "    return scores[index]\n",
    "\n",
    "print('prank, score, score')\n",
    "for percentile_rank in [0, 20, 25, 40, 50, 60, 75, 80, 100]:\n",
    "    print(percentile_rank, \n",
    "          Percentile(scores, percentile_rank),\n",
    "          Percentile2(scores, percentile_rank))\n",
    "\n",
    "\n",
    "def EvalCdf(sample, x):\n",
    "    \"\"\"Computes CDF(x) in a sample.\n",
    "\n",
    "    sample: sequence\n",
    "    x: value\n",
    "\n",
    "    returns: cumulative probability\n",
    "    \"\"\"\n",
    "    count = 0.0\n",
    "    for value in sample:\n",
    "        if value <= x:\n",
    "            count += 1.0\n",
    "\n",
    "    prob = count / len(sample)\n",
    "    return prob\n",
    "\n",
    "sample = [1, 2, 2, 3, 5]\n",
    "\n",
    "print('x', 'CDF(x)')\n",
    "for x in range(0, 7):\n",
    "    print(x, EvalCdf(sample, x))\n",
    "\n",
    "\n",
    "\n",
    "def PositionToPercentile(position, field_size):\n",
    "    \"\"\"Converts from position in the field to percentile.\n",
    "\n",
    "    position: int\n",
    "    field_size: int\n",
    "    \"\"\"\n",
    "    beat = field_size - position + 1\n",
    "    percentile = 100.0 * beat / field_size\n",
    "    return percentile\n",
    "\n",
    "\n",
    "def PercentileToPosition(percentile, field_size):\n",
    "    \"\"\"Converts from percentile to hypothetical position in the field.\n",
    "\n",
    "    percentile: 0-100\n",
    "    field_size: int\n",
    "    \"\"\"\n",
    "    beat = percentile * field_size / 100.0\n",
    "    position = field_size - beat + 1\n",
    "    return position\n",
    "\n",
    "\n",
    "# my time 42:44\n",
    "print('Percentile rank in field', PositionToPercentile(97, 1633))\n",
    "print('Percentile rank in age group', PositionToPercentile(26, 256))\n",
    "\n",
    "percentile = PositionToPercentile(26, 256)\n",
    "print('Equivalent position in M50-59', PercentileToPosition(percentile, 171))\n",
    "# 17th place = 46:05\n",
    "print('Equivalent position in F20-29', PercentileToPosition(percentile, 448))\n",
    "# 48:28\n",
    "\n",
    "\n",
    "def MakeExample():\n",
    "    \"\"\"Makes a simple example CDF.\"\"\"\n",
    "    t = [2, 1, 3, 2, 5]\n",
    "    cdf = thinkstats2.Cdf(t)\n",
    "    thinkplot.Clf()\n",
    "    thinkplot.Cdf(cdf)\n",
    "    thinkplot.Save(root='cumulative_example_cdf',\n",
    "                   xlabel='x',\n",
    "                   ylabel='CDF',\n",
    "                   axis=[0, 6, 0, 1],\n",
    "                   legend=False)    \n",
    "\n",
    "\n",
    "def MakeFigures(live, firsts, others):\n",
    "    \"\"\"Creates several figures for the book.\n",
    "\n",
    "    live: DataFrame\n",
    "    firsts: DataFrame\n",
    "    others: DataFrame\n",
    "    \"\"\"\n",
    "\n",
    "    first_wgt = firsts.totalwgt_lb\n",
    "    first_wgt_dropna = first_wgt.dropna()\n",
    "    print('Firsts', len(first_wgt), len(first_wgt_dropna))\n",
    "    #assert len(first_wgt_dropna) == 4381\n",
    " \n",
    "    other_wgt = others.totalwgt_lb\n",
    "    other_wgt_dropna = other_wgt.dropna()\n",
    "    print('Others', len(other_wgt), len(other_wgt_dropna))\n",
    "    #assert len(other_wgt_dropna) == 4706\n",
    "\n",
    "    first_pmf = thinkstats2.Pmf(first_wgt_dropna, label='first')\n",
    "    other_pmf = thinkstats2.Pmf(other_wgt_dropna, label='other')\n",
    "\n",
    "    width = 0.4 / 16\n",
    "\n",
    "    # plot PMFs of birth weights for first babies and others\n",
    "    thinkplot.PrePlot(2)\n",
    "    thinkplot.Hist(first_pmf, align='right', width=width)\n",
    "    thinkplot.Hist(other_pmf, align='left', width=width)\n",
    "    thinkplot.Save(root='cumulative_birthwgt_pmf',\n",
    "                   title='Birth weight',\n",
    "                   xlabel='weight (pounds)',\n",
    "                   ylabel='PMF')\n",
    "\n",
    "    # plot CDFs of birth weights for first babies and others\n",
    "    first_cdf = thinkstats2.Cdf(firsts.totalwgt_lb, label='first')\n",
    "    other_cdf = thinkstats2.Cdf(others.totalwgt_lb, label='other')\n",
    "\n",
    "    thinkplot.PrePlot(2)\n",
    "    thinkplot.Cdfs([first_cdf, other_cdf])\n",
    "    thinkplot.Save(root='cumulative_birthwgt_cdf',\n",
    "                   title='Birth weight',\n",
    "                   xlabel='weight (pounds)',\n",
    "                   ylabel='CDF',\n",
    "                   axis=[0, 12.5, 0, 1]\n",
    "                   )\n",
    "\n",
    "\n",
    "def MakeCdf(live):\n",
    "    \"\"\"Plot the CDF of pregnancy lengths for live births.\n",
    "   \n",
    "    live: DataFrame for live births\n",
    "    \"\"\"\n",
    "    cdf = thinkstats2.Cdf(live.prglngth, label='prglngth')\n",
    "    thinkplot.Cdf(cdf)\n",
    "    thinkplot.Save('cumulative_prglngth_cdf',\n",
    "                   title='Pregnancy length',\n",
    "                   xlabel='weeks',\n",
    "                   ylabel='CDF')\n",
    "\n",
    "\n",
    "def RandomFigure(live):\n",
    "    weights = live.totalwgt_lb\n",
    "    cdf = thinkstats2.Cdf(weights, label='totalwgt_lb')\n",
    "\n",
    "    sample = np.random.choice(weights, 100, replace=True)\n",
    "    ranks = [cdf.PercentileRank(x) for x in sample]\n",
    "\n",
    "    rank_cdf = thinkstats2.Cdf(ranks, label='percentile ranks')\n",
    "    thinkplot.Cdf(rank_cdf)\n",
    "    thinkplot.Save(root='cumulative_random',\n",
    "                   xlabel='percentile rank',\n",
    "                   ylabel='CDF')\n",
    "\n",
    "\n",
    "def TestSample(live):\n",
    "    \"\"\"Plots the distribution of weights against a random sample.\n",
    "\n",
    "    live: DataFrame for live births\n",
    "    \"\"\"\n",
    "    weights = live.totalwgt_lb\n",
    "    cdf = thinkstats2.Cdf(weights, label='totalwgt_lb')\n",
    "\n",
    "    sample = cdf.Sample(1000)\n",
    "    sample_cdf = thinkstats2.Cdf(sample, label='sample')\n",
    "\n",
    "    thinkplot.PrePlot(2)\n",
    "    thinkplot.Cdfs([cdf, sample_cdf])\n",
    "    thinkplot.Save(root='cumulative_sample',\n",
    "                   xlabel='weight (pounds)',\n",
    "                   ylabel='CDF')\n",
    "\n",
    "\n",
    "def main(name, data_dir=''):\n",
    "    thinkstats2.RandomSeed(17)\n",
    "\n",
    "    MakeExample()\n",
    "    live, firsts, others = first.MakeFrames()\n",
    "    RandomFigure(live)\n",
    "    TestSample(live)\n",
    "    MakeCdf(live)\n",
    "    MakeFigures(live, firsts, others)\n"
   ]
  },
  {
   "cell_type": "code",
   "execution_count": null,
   "metadata": {},
   "outputs": [],
   "source": []
  }
 ],
 "metadata": {
  "kernelspec": {
   "display_name": "Python 3",
   "language": "python",
   "name": "python3"
  },
  "language_info": {
   "codemirror_mode": {
    "name": "ipython",
    "version": 3
   },
   "file_extension": ".py",
   "mimetype": "text/x-python",
   "name": "python",
   "nbconvert_exporter": "python",
   "pygments_lexer": "ipython3",
   "version": "3.8.5"
  }
 },
 "nbformat": 4,
 "nbformat_minor": 4
}
